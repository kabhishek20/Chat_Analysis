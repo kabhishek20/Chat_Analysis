{
  "nbformat": 4,
  "nbformat_minor": 0,
  "metadata": {
    "colab": {
      "provenance": [],
      "gpuType": "T4",
      "mount_file_id": "1sQH8KzZD7VKHjeDcMhi2Z1xC8Gk82WFU",
      "authorship_tag": "ABX9TyM2/1pDq+OtDQdfLEqRBV1P",
      "include_colab_link": true
    },
    "kernelspec": {
      "name": "python3",
      "display_name": "Python 3"
    },
    "language_info": {
      "name": "python"
    },
    "accelerator": "GPU"
  },
  "cells": [
    {
      "cell_type": "markdown",
      "metadata": {
        "id": "view-in-github",
        "colab_type": "text"
      },
      "source": [
        "<a href=\"https://colab.research.google.com/github/kabhishek20/Chat_Analysis/blob/main/Data_Shortage_BERT.ipynb\" target=\"_parent\"><img src=\"https://colab.research.google.com/assets/colab-badge.svg\" alt=\"Open In Colab\"/></a>"
      ]
    },
    {
      "cell_type": "code",
      "source": [
        "!pip install tensorflow_text\n",
        "!pip install datefinder"
      ],
      "metadata": {
        "id": "Y9HbkRNSPN79",
        "colab": {
          "base_uri": "https://localhost:8080/"
        },
        "outputId": "7ff3ad31-a592-402a-a52a-1e0e9909bbb5"
      },
      "execution_count": null,
      "outputs": [
        {
          "output_type": "stream",
          "name": "stdout",
          "text": [
            "Looking in indexes: https://pypi.org/simple, https://us-python.pkg.dev/colab-wheels/public/simple/\n",
            "Collecting tensorflow_text\n",
            "  Downloading tensorflow_text-2.12.1-cp310-cp310-manylinux_2_17_x86_64.manylinux2014_x86_64.whl (6.0 MB)\n",
            "\u001b[2K     \u001b[90m━━━━━━━━━━━━━━━━━━━━━━━━━━━━━━━━━━━━━━━━\u001b[0m \u001b[32m6.0/6.0 MB\u001b[0m \u001b[31m87.6 MB/s\u001b[0m eta \u001b[36m0:00:00\u001b[0m\n",
            "\u001b[?25hRequirement already satisfied: tensorflow-hub>=0.8.0 in /usr/local/lib/python3.10/dist-packages (from tensorflow_text) (0.13.0)\n",
            "Requirement already satisfied: tensorflow<2.13,>=2.12.0 in /usr/local/lib/python3.10/dist-packages (from tensorflow_text) (2.12.0)\n",
            "Requirement already satisfied: absl-py>=1.0.0 in /usr/local/lib/python3.10/dist-packages (from tensorflow<2.13,>=2.12.0->tensorflow_text) (1.4.0)\n",
            "Requirement already satisfied: astunparse>=1.6.0 in /usr/local/lib/python3.10/dist-packages (from tensorflow<2.13,>=2.12.0->tensorflow_text) (1.6.3)\n",
            "Requirement already satisfied: flatbuffers>=2.0 in /usr/local/lib/python3.10/dist-packages (from tensorflow<2.13,>=2.12.0->tensorflow_text) (23.5.26)\n",
            "Requirement already satisfied: gast<=0.4.0,>=0.2.1 in /usr/local/lib/python3.10/dist-packages (from tensorflow<2.13,>=2.12.0->tensorflow_text) (0.4.0)\n",
            "Requirement already satisfied: google-pasta>=0.1.1 in /usr/local/lib/python3.10/dist-packages (from tensorflow<2.13,>=2.12.0->tensorflow_text) (0.2.0)\n",
            "Requirement already satisfied: grpcio<2.0,>=1.24.3 in /usr/local/lib/python3.10/dist-packages (from tensorflow<2.13,>=2.12.0->tensorflow_text) (1.54.2)\n",
            "Requirement already satisfied: h5py>=2.9.0 in /usr/local/lib/python3.10/dist-packages (from tensorflow<2.13,>=2.12.0->tensorflow_text) (3.8.0)\n",
            "Requirement already satisfied: jax>=0.3.15 in /usr/local/lib/python3.10/dist-packages (from tensorflow<2.13,>=2.12.0->tensorflow_text) (0.4.10)\n",
            "Requirement already satisfied: keras<2.13,>=2.12.0 in /usr/local/lib/python3.10/dist-packages (from tensorflow<2.13,>=2.12.0->tensorflow_text) (2.12.0)\n",
            "Requirement already satisfied: libclang>=13.0.0 in /usr/local/lib/python3.10/dist-packages (from tensorflow<2.13,>=2.12.0->tensorflow_text) (16.0.0)\n",
            "Requirement already satisfied: numpy<1.24,>=1.22 in /usr/local/lib/python3.10/dist-packages (from tensorflow<2.13,>=2.12.0->tensorflow_text) (1.22.4)\n",
            "Requirement already satisfied: opt-einsum>=2.3.2 in /usr/local/lib/python3.10/dist-packages (from tensorflow<2.13,>=2.12.0->tensorflow_text) (3.3.0)\n",
            "Requirement already satisfied: packaging in /usr/local/lib/python3.10/dist-packages (from tensorflow<2.13,>=2.12.0->tensorflow_text) (23.1)\n",
            "Requirement already satisfied: protobuf!=4.21.0,!=4.21.1,!=4.21.2,!=4.21.3,!=4.21.4,!=4.21.5,<5.0.0dev,>=3.20.3 in /usr/local/lib/python3.10/dist-packages (from tensorflow<2.13,>=2.12.0->tensorflow_text) (3.20.3)\n",
            "Requirement already satisfied: setuptools in /usr/local/lib/python3.10/dist-packages (from tensorflow<2.13,>=2.12.0->tensorflow_text) (67.7.2)\n",
            "Requirement already satisfied: six>=1.12.0 in /usr/local/lib/python3.10/dist-packages (from tensorflow<2.13,>=2.12.0->tensorflow_text) (1.16.0)\n",
            "Requirement already satisfied: tensorboard<2.13,>=2.12 in /usr/local/lib/python3.10/dist-packages (from tensorflow<2.13,>=2.12.0->tensorflow_text) (2.12.3)\n",
            "Requirement already satisfied: tensorflow-estimator<2.13,>=2.12.0 in /usr/local/lib/python3.10/dist-packages (from tensorflow<2.13,>=2.12.0->tensorflow_text) (2.12.0)\n",
            "Requirement already satisfied: termcolor>=1.1.0 in /usr/local/lib/python3.10/dist-packages (from tensorflow<2.13,>=2.12.0->tensorflow_text) (2.3.0)\n",
            "Requirement already satisfied: typing-extensions>=3.6.6 in /usr/local/lib/python3.10/dist-packages (from tensorflow<2.13,>=2.12.0->tensorflow_text) (4.6.3)\n",
            "Requirement already satisfied: wrapt<1.15,>=1.11.0 in /usr/local/lib/python3.10/dist-packages (from tensorflow<2.13,>=2.12.0->tensorflow_text) (1.14.1)\n",
            "Requirement already satisfied: tensorflow-io-gcs-filesystem>=0.23.1 in /usr/local/lib/python3.10/dist-packages (from tensorflow<2.13,>=2.12.0->tensorflow_text) (0.32.0)\n",
            "Requirement already satisfied: wheel<1.0,>=0.23.0 in /usr/local/lib/python3.10/dist-packages (from astunparse>=1.6.0->tensorflow<2.13,>=2.12.0->tensorflow_text) (0.40.0)\n",
            "Requirement already satisfied: ml-dtypes>=0.1.0 in /usr/local/lib/python3.10/dist-packages (from jax>=0.3.15->tensorflow<2.13,>=2.12.0->tensorflow_text) (0.2.0)\n",
            "Requirement already satisfied: scipy>=1.7 in /usr/local/lib/python3.10/dist-packages (from jax>=0.3.15->tensorflow<2.13,>=2.12.0->tensorflow_text) (1.10.1)\n",
            "Requirement already satisfied: google-auth<3,>=1.6.3 in /usr/local/lib/python3.10/dist-packages (from tensorboard<2.13,>=2.12->tensorflow<2.13,>=2.12.0->tensorflow_text) (2.17.3)\n",
            "Requirement already satisfied: google-auth-oauthlib<1.1,>=0.5 in /usr/local/lib/python3.10/dist-packages (from tensorboard<2.13,>=2.12->tensorflow<2.13,>=2.12.0->tensorflow_text) (1.0.0)\n",
            "Requirement already satisfied: markdown>=2.6.8 in /usr/local/lib/python3.10/dist-packages (from tensorboard<2.13,>=2.12->tensorflow<2.13,>=2.12.0->tensorflow_text) (3.4.3)\n",
            "Requirement already satisfied: requests<3,>=2.21.0 in /usr/local/lib/python3.10/dist-packages (from tensorboard<2.13,>=2.12->tensorflow<2.13,>=2.12.0->tensorflow_text) (2.27.1)\n",
            "Requirement already satisfied: tensorboard-data-server<0.8.0,>=0.7.0 in /usr/local/lib/python3.10/dist-packages (from tensorboard<2.13,>=2.12->tensorflow<2.13,>=2.12.0->tensorflow_text) (0.7.1)\n",
            "Requirement already satisfied: werkzeug>=1.0.1 in /usr/local/lib/python3.10/dist-packages (from tensorboard<2.13,>=2.12->tensorflow<2.13,>=2.12.0->tensorflow_text) (2.3.6)\n",
            "Requirement already satisfied: cachetools<6.0,>=2.0.0 in /usr/local/lib/python3.10/dist-packages (from google-auth<3,>=1.6.3->tensorboard<2.13,>=2.12->tensorflow<2.13,>=2.12.0->tensorflow_text) (5.3.1)\n",
            "Requirement already satisfied: pyasn1-modules>=0.2.1 in /usr/local/lib/python3.10/dist-packages (from google-auth<3,>=1.6.3->tensorboard<2.13,>=2.12->tensorflow<2.13,>=2.12.0->tensorflow_text) (0.3.0)\n",
            "Requirement already satisfied: rsa<5,>=3.1.4 in /usr/local/lib/python3.10/dist-packages (from google-auth<3,>=1.6.3->tensorboard<2.13,>=2.12->tensorflow<2.13,>=2.12.0->tensorflow_text) (4.9)\n",
            "Requirement already satisfied: requests-oauthlib>=0.7.0 in /usr/local/lib/python3.10/dist-packages (from google-auth-oauthlib<1.1,>=0.5->tensorboard<2.13,>=2.12->tensorflow<2.13,>=2.12.0->tensorflow_text) (1.3.1)\n",
            "Requirement already satisfied: urllib3<1.27,>=1.21.1 in /usr/local/lib/python3.10/dist-packages (from requests<3,>=2.21.0->tensorboard<2.13,>=2.12->tensorflow<2.13,>=2.12.0->tensorflow_text) (1.26.16)\n",
            "Requirement already satisfied: certifi>=2017.4.17 in /usr/local/lib/python3.10/dist-packages (from requests<3,>=2.21.0->tensorboard<2.13,>=2.12->tensorflow<2.13,>=2.12.0->tensorflow_text) (2023.5.7)\n",
            "Requirement already satisfied: charset-normalizer~=2.0.0 in /usr/local/lib/python3.10/dist-packages (from requests<3,>=2.21.0->tensorboard<2.13,>=2.12->tensorflow<2.13,>=2.12.0->tensorflow_text) (2.0.12)\n",
            "Requirement already satisfied: idna<4,>=2.5 in /usr/local/lib/python3.10/dist-packages (from requests<3,>=2.21.0->tensorboard<2.13,>=2.12->tensorflow<2.13,>=2.12.0->tensorflow_text) (3.4)\n",
            "Requirement already satisfied: MarkupSafe>=2.1.1 in /usr/local/lib/python3.10/dist-packages (from werkzeug>=1.0.1->tensorboard<2.13,>=2.12->tensorflow<2.13,>=2.12.0->tensorflow_text) (2.1.3)\n",
            "Requirement already satisfied: pyasn1<0.6.0,>=0.4.6 in /usr/local/lib/python3.10/dist-packages (from pyasn1-modules>=0.2.1->google-auth<3,>=1.6.3->tensorboard<2.13,>=2.12->tensorflow<2.13,>=2.12.0->tensorflow_text) (0.5.0)\n",
            "Requirement already satisfied: oauthlib>=3.0.0 in /usr/local/lib/python3.10/dist-packages (from requests-oauthlib>=0.7.0->google-auth-oauthlib<1.1,>=0.5->tensorboard<2.13,>=2.12->tensorflow<2.13,>=2.12.0->tensorflow_text) (3.2.2)\n",
            "Installing collected packages: tensorflow_text\n",
            "Successfully installed tensorflow_text-2.12.1\n",
            "Looking in indexes: https://pypi.org/simple, https://us-python.pkg.dev/colab-wheels/public/simple/\n",
            "Collecting datefinder\n",
            "  Downloading datefinder-0.7.3-py2.py3-none-any.whl (10 kB)\n",
            "Requirement already satisfied: regex>=2017.02.08 in /usr/local/lib/python3.10/dist-packages (from datefinder) (2022.10.31)\n",
            "Requirement already satisfied: python-dateutil>=2.4.2 in /usr/local/lib/python3.10/dist-packages (from datefinder) (2.8.2)\n",
            "Requirement already satisfied: pytz in /usr/local/lib/python3.10/dist-packages (from datefinder) (2022.7.1)\n",
            "Requirement already satisfied: six>=1.5 in /usr/local/lib/python3.10/dist-packages (from python-dateutil>=2.4.2->datefinder) (1.16.0)\n",
            "Installing collected packages: datefinder\n",
            "Successfully installed datefinder-0.7.3\n"
          ]
        }
      ]
    },
    {
      "cell_type": "markdown",
      "source": [
        "### **Importing Required Libraries**"
      ],
      "metadata": {
        "id": "2nuO9iaQwVau"
      }
    },
    {
      "cell_type": "code",
      "source": [
        "import pickle\n",
        "from datetime import datetime\n",
        "import requests\n",
        "import warnings\n",
        "import datefinder\n",
        "import pandas as pd\n",
        "import numpy as np\n",
        "import tensorflow_text as text\n",
        "import tensorflow as tf\n",
        "import tensorflow_hub as hub"
      ],
      "metadata": {
        "id": "k_YI1kSiPez5"
      },
      "execution_count": null,
      "outputs": []
    },
    {
      "cell_type": "markdown",
      "source": [
        "### **Pre-Processing Data**"
      ],
      "metadata": {
        "id": "8N-QpephwgFk"
      }
    },
    {
      "cell_type": "code",
      "source": [
        "def data_preprocess(df):\n",
        "    df[\"Status\"] = df[\"Status\"].str.lower()\n",
        "    df.loc[df[\"Status\"] == \"resolved\", \"Information_Available\"] = \"available\"\n",
        "    df.loc[df[\"Status\"] == \"to be discontinued\", \"Information_Available\"] = \"not available\"\n",
        "    df.loc[df[\"Status\"] == \"current\", \"Status\"] = \" \"\n",
        "    return (df)"
      ],
      "metadata": {
        "id": "F-KGYRh6iDsn"
      },
      "execution_count": null,
      "outputs": []
    },
    {
      "cell_type": "markdown",
      "source": [
        "###**Data Cleaning**"
      ],
      "metadata": {
        "id": "To5dMqaSwpuU"
      }
    },
    {
      "cell_type": "code",
      "source": [
        "def data_clean(df):\n",
        "    df.drop([\" Type of Update\", \" Resolved Note\", \" Change Date\", \" Date Discontinued\", \" Generic Name Note\",\n",
        "             \" Generic Name Link \", \" Company Info Link\", \" Availability Link\", \" Related Info Link\",\n",
        "             \"   Resolved Note Link\", \" Discontinued Note Link\"], axis=1, inplace=True)\n",
        "    df.columns = ['Generic_Drug_Name', 'Company_Name', 'Contact_Information', 'Product_details', 'Last_FDA_Update',\n",
        "                  'Available_Information', 'Related_Information', 'Reason_for_shortage', 'Therapeutic_Category',\n",
        "                  'Status', 'Initial_FDA_Update']\n",
        "    df[\"Last_FDA_Update\"].fillna(df[\"Initial_FDA_Update\"], inplace=True)\n",
        "    df[\"Initial_FDA_Update\"].fillna(df[\"Last_FDA_Update\"], inplace=True)\n",
        "    df[\"Contact_Information\"].fillna(\"No Contact Information present\", inplace=True)\n",
        "    df[\"Therapeutic_Category\"].fillna(\"No Category described\", inplace=True)\n",
        "    df[\"Reason_for_shortage\"].fillna(\"Reason not known\", inplace=True)\n",
        "    df[\"Available_Information\"].fillna(\" \", inplace=True)\n",
        "    df[\"Related_Information\"].fillna(\" \", inplace=True)\n",
        "    df['Information_Available'] = df['Available_Information'] + ' ' + df['Related_Information']\n",
        "    df.drop(['Available_Information', 'Related_Information'], axis=1, inplace=True)\n",
        "    return (df)"
      ],
      "metadata": {
        "id": "49AH4G5BiKex"
      },
      "execution_count": null,
      "outputs": []
    },
    {
      "cell_type": "markdown",
      "source": [
        "###**Model Classification**"
      ],
      "metadata": {
        "id": "0H3B1J5JwvR7"
      }
    },
    {
      "cell_type": "code",
      "execution_count": null,
      "metadata": {
        "id": "rnzckCMyNfMw"
      },
      "outputs": [],
      "source": [
        "def current_shortage():\n",
        "    url = \"https://www.accessdata.fda.gov/scripts/drugshortages/Drugshortages.cfm\"\n",
        "    response = requests.get(url)\n",
        "    if response.status_code == 200:\n",
        "        df = pd.read_csv(url)\n",
        "        # df=pd.read_csv(\"/content/Drugshortages_for_testing.csv\")\n",
        "        df = data_clean(df)\n",
        "        df = data_preprocess(df)\n",
        "        model = tf.keras.models.load_model('/content/drive/MyDrive/272 PROJECT/BERT_fine_tuned_model.h5',custom_objects={'KerasLayer': hub.KerasLayer})\n",
        "        result = model.predict(df[\"Information_Available\"])\n",
        "        result = result.flatten()\n",
        "        result= np.where(result > 0.5, 1, 0)\n",
        "        # df[\"model_prediction\"]=result\n",
        "        df['model_prediction'] = np.where(df['model_prediction'] == 1, 'Shortage', 'No Shortage')\n",
        "        return(df)\n",
        "    else:\n",
        "        print(\"Failed to update.\")"
      ]
    },
    {
      "cell_type": "markdown",
      "source": [
        "###**Returning Output**"
      ],
      "metadata": {
        "id": "0s-tX7Cjw3aq"
      }
    },
    {
      "cell_type": "code",
      "source": [
        "def extract_dates_from_sentence(sentence):\n",
        "    sentence = sentence.replace(\"Q1\",\"January\").replace(\"Q2\",\"April\").replace(\"Q3\",\"July\").replace(\"Q4\",\"October\")\n",
        "    dates = []\n",
        "    matches = datefinder.find_dates(sentence)\n",
        "    for match in matches:\n",
        "        dates.append(match)\n",
        "    if len(dates)>0:\n",
        "      return dates[0].date()\n",
        "    else:\n",
        "      return None"
      ],
      "metadata": {
        "id": "QblY0HOxnW_q"
      },
      "execution_count": null,
      "outputs": []
    },
    {
      "cell_type": "code",
      "source": [
        "def filter(df):\n",
        "  for i in range(0,df.shape[0]):\n",
        "    if \"on allocation\" in df[\"Information_Available\"][i].lower():\n",
        "      df[\"model_prediction\"][i]=1\n",
        "    if \"contracted customers\" in df[\"Information_Available\"][i].lower():\n",
        "      df[\"model_prediction\"][i]=1\n",
        "    date=extract_dates_from_sentence(df[\"Information_Available\"][i])\n",
        "    # print(date)\n",
        "    if date is not None:\n",
        "      if date>datetime.now().date():\n",
        "        df[\"model_prediction\"][i]=1\n",
        "        # print(\"Hi\")\n",
        "      else:\n",
        "        df[\"model_prediction\"][i]=0\n",
        "  return(df)\n"
      ],
      "metadata": {
        "id": "_nnjOLu1niai"
      },
      "execution_count": null,
      "outputs": []
    },
    {
      "cell_type": "code",
      "source": [
        "if __name__ == \"__main__\":\n",
        "    df = current_shortage()\n",
        "    df = filter(df)\n",
        "    df.to_csv(\"BERT_output.csv\", index=False)"
      ],
      "metadata": {
        "id": "l63u7sKLiQ9l",
        "colab": {
          "base_uri": "https://localhost:8080/"
        },
        "outputId": "726f1d65-681d-4385-b7fc-a9f5ea85c07f"
      },
      "execution_count": null,
      "outputs": [
        {
          "output_type": "stream",
          "name": "stdout",
          "text": [
            "94/94 [==============================] - 31s 326ms/step\n"
          ]
        },
        {
          "output_type": "stream",
          "name": "stderr",
          "text": [
            "<ipython-input-34-39e5a7ffc225>:4: SettingWithCopyWarning: \n",
            "A value is trying to be set on a copy of a slice from a DataFrame\n",
            "\n",
            "See the caveats in the documentation: https://pandas.pydata.org/pandas-docs/stable/user_guide/indexing.html#returning-a-view-versus-a-copy\n",
            "  df[\"model_prediction\"][i]=1\n",
            "<ipython-input-34-39e5a7ffc225>:11: SettingWithCopyWarning: \n",
            "A value is trying to be set on a copy of a slice from a DataFrame\n",
            "\n",
            "See the caveats in the documentation: https://pandas.pydata.org/pandas-docs/stable/user_guide/indexing.html#returning-a-view-versus-a-copy\n",
            "  df[\"model_prediction\"][i]=1\n",
            "<ipython-input-34-39e5a7ffc225>:6: SettingWithCopyWarning: \n",
            "A value is trying to be set on a copy of a slice from a DataFrame\n",
            "\n",
            "See the caveats in the documentation: https://pandas.pydata.org/pandas-docs/stable/user_guide/indexing.html#returning-a-view-versus-a-copy\n",
            "  df[\"model_prediction\"][i]=1\n",
            "<ipython-input-34-39e5a7ffc225>:14: SettingWithCopyWarning: \n",
            "A value is trying to be set on a copy of a slice from a DataFrame\n",
            "\n",
            "See the caveats in the documentation: https://pandas.pydata.org/pandas-docs/stable/user_guide/indexing.html#returning-a-view-versus-a-copy\n",
            "  df[\"model_prediction\"][i]=0\n"
          ]
        }
      ]
    },
    {
      "cell_type": "code",
      "source": [
        "# from sklearn.metrics import classification_report"
      ],
      "metadata": {
        "id": "BUxYiTGfSNav"
      },
      "execution_count": null,
      "outputs": []
    },
    {
      "cell_type": "code",
      "source": [
        "# print(classification_report(df[\"label\"], df[\"model_prediction\"]))"
      ],
      "metadata": {
        "colab": {
          "base_uri": "https://localhost:8080/"
        },
        "id": "9tMXYUvXTE5v",
        "outputId": "562256c7-5162-4c77-e816-e944280885b3"
      },
      "execution_count": null,
      "outputs": [
        {
          "output_type": "stream",
          "name": "stdout",
          "text": [
            "              precision    recall  f1-score   support\n",
            "\n",
            "           0       0.98      0.97      0.98      1596\n",
            "           1       0.96      0.98      0.97      1412\n",
            "\n",
            "    accuracy                           0.97      3008\n",
            "   macro avg       0.97      0.97      0.97      3008\n",
            "weighted avg       0.97      0.97      0.97      3008\n",
            "\n"
          ]
        }
      ]
    },
    {
      "cell_type": "code",
      "source": [
        "# from sklearn.metrics import confusion_matrix, ConfusionMatrixDisplay\n",
        "# import matplotlib.pyplot as plt\n",
        "# %matplotlib inline\n",
        "\n",
        "# ConfusionMatrixDisplay.from_predictions(df[\"label\"], df[\"model_prediction\"])\n",
        "# # disp = ConfusionMatrixDisplay(confusion_matrix=cm, display_labels=model.classes_)\n",
        "# # disp.plot()\n",
        "# plt.show()"
      ],
      "metadata": {
        "colab": {
          "base_uri": "https://localhost:8080/",
          "height": 449
        },
        "id": "FtiP-7SPTP0X",
        "outputId": "d0dfd23d-01dc-448d-ef44-a7d00acbb309"
      },
      "execution_count": null,
      "outputs": [
        {
          "output_type": "display_data",
          "data": {
            "text/plain": [
              "<Figure size 640x480 with 2 Axes>"
            ],
            "image/png": "[encoded data removed]"
          },
          "metadata": {}
        }
      ]
    },
    {
      "cell_type": "code",
      "source": [],
      "metadata": {
        "id": "fQfJ9Kr4TabD"
      },
      "execution_count": null,
      "outputs": []
    }
  ]
}